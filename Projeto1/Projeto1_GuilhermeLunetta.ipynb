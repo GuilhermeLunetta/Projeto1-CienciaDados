{
 "cells": [
  {
   "cell_type": "markdown",
   "metadata": {},
   "source": [
    "## Projeto 1 - Ciência de Dados"
   ]
  },
  {
   "cell_type": "markdown",
   "metadata": {},
   "source": [
    "Nome: Guilherme Carneiro Lunetta\n",
    "\n",
    "GitHub: https://github.com/GuilhermeLunetta/Projeto1-CienciaDados"
   ]
  },
  {
   "cell_type": "markdown",
   "metadata": {},
   "source": [
    "## Pergunta a ser respondida"
   ]
  },
  {
   "cell_type": "markdown",
   "metadata": {},
   "source": [
    "Como a permanência/ingressão no Mercosul influência a Exportação (% do PIB), o IDH (Índice de Desenvolvimento Humano) e o PIB/capita (Produto Interno Bruto) total do país?"
   ]
  },
  {
   "cell_type": "markdown",
   "metadata": {},
   "source": [
    "## Explicação da hipótese e mecanismo"
   ]
  },
  {
   "cell_type": "markdown",
   "metadata": {},
   "source": [
    "Mercado Comum do Sul é uma organização intergovernamental fundada a partir do Tratado de Assunção de 1991. Estabelece uma integração, inicialmente, econômica configurada atualmente em uma união aduaneira, na qual há livre comércio intrazona e política comercial comum entre os países-membros.\n",
    "\n",
    "A partir do parágrafo acima, é razoável pensar que ao ingressar/estar no Mercosul, a exportação de tal país deve aumentar, o que deve aumentar o PIB e por isso aumentar o IDH. Portanto, a hipótese é que todas essas variáveis vão aumentar depois do ano de ingressão de cada país na organização.\n",
    "\n",
    "Fonte: https://pt.wikipedia.org/wiki/Mercado_Comum_do_Sul"
   ]
  },
  {
   "cell_type": "markdown",
   "metadata": {},
   "source": [
    "## Base de dados usada"
   ]
  },
  {
   "cell_type": "markdown",
   "metadata": {},
   "source": [
    "PIB per capita (GDP em inglês) - https://www.gapminder.org/data/documentation/gd001/\n",
    "\n",
    "IDH - http://hdr.undp.org/en/data\n",
    "\n",
    "Exportação - https://data.worldbank.org/indicator/NE.EXP.GNFS.ZS"
   ]
  },
  {
   "cell_type": "code",
   "execution_count": 1,
   "metadata": {},
   "outputs": [],
   "source": [
    "#Importando as bibliotecas necessárias para o projeto\n",
    "\n",
    "%matplotlib inline\n",
    "\n",
    "import os\n",
    "import pandas as pd\n",
    "import numpy as np\n",
    "import matplotlib.pyplot as plt\n",
    "import seaborn as sns"
   ]
  },
  {
   "cell_type": "markdown",
   "metadata": {},
   "source": [
    "## Análise de dados"
   ]
  },
  {
   "cell_type": "code",
   "execution_count": 2,
   "metadata": {},
   "outputs": [],
   "source": [
    "#Criando os dataframes que serão analisados, logo menos o join será feito\n",
    "\n",
    "gdp = pd.read_excel('income_per_person_gdppercapita_ppp_inflation_adjusted.xlsx')\n",
    "idh = pd.read_excel('hdi_human_development_index.xlsx')\n",
    "export = pd.read_excel('exports_percent_of_gdp.xlsx')"
   ]
  },
  {
   "cell_type": "markdown",
   "metadata": {},
   "source": [
    "Eu escolhi por analisar os dados do ano de 1996 pois são 5 anos depois da entrada desses países no Mercosul. Levei em conta que 5 anos são suficientes para adquirir informações de um país pertencente a uma organização."
   ]
  },
  {
   "cell_type": "markdown",
   "metadata": {},
   "source": [
    "### PIB per capita / ano (em milhares de dólares)"
   ]
  },
  {
   "cell_type": "code",
   "execution_count": 3,
   "metadata": {},
   "outputs": [
    {
     "data": {
      "text/html": [
       "<div>\n",
       "<style scoped>\n",
       "    .dataframe tbody tr th:only-of-type {\n",
       "        vertical-align: middle;\n",
       "    }\n",
       "\n",
       "    .dataframe tbody tr th {\n",
       "        vertical-align: top;\n",
       "    }\n",
       "\n",
       "    .dataframe thead th {\n",
       "        text-align: right;\n",
       "    }\n",
       "</style>\n",
       "<table border=\"1\" class=\"dataframe\">\n",
       "  <thead>\n",
       "    <tr style=\"text-align: right;\">\n",
       "      <th></th>\n",
       "      <th>País</th>\n",
       "      <th>PIB1991</th>\n",
       "      <th>PIB1996</th>\n",
       "    </tr>\n",
       "  </thead>\n",
       "  <tbody>\n",
       "    <tr>\n",
       "      <th>0</th>\n",
       "      <td>Afghanistan</td>\n",
       "      <td>1030</td>\n",
       "      <td>904</td>\n",
       "    </tr>\n",
       "    <tr>\n",
       "      <th>1</th>\n",
       "      <td>Albania</td>\n",
       "      <td>3230</td>\n",
       "      <td>4530</td>\n",
       "    </tr>\n",
       "    <tr>\n",
       "      <th>2</th>\n",
       "      <td>Algeria</td>\n",
       "      <td>9870</td>\n",
       "      <td>9510</td>\n",
       "    </tr>\n",
       "    <tr>\n",
       "      <th>3</th>\n",
       "      <td>Andorra</td>\n",
       "      <td>28000</td>\n",
       "      <td>27200</td>\n",
       "    </tr>\n",
       "    <tr>\n",
       "      <th>4</th>\n",
       "      <td>Angola</td>\n",
       "      <td>4210</td>\n",
       "      <td>3210</td>\n",
       "    </tr>\n",
       "    <tr>\n",
       "      <th>5</th>\n",
       "      <td>Antigua and Barbuda</td>\n",
       "      <td>16600</td>\n",
       "      <td>17100</td>\n",
       "    </tr>\n",
       "  </tbody>\n",
       "</table>\n",
       "</div>"
      ],
      "text/plain": [
       "                  País  PIB1991  PIB1996\n",
       "0          Afghanistan     1030      904\n",
       "1              Albania     3230     4530\n",
       "2              Algeria     9870     9510\n",
       "3              Andorra    28000    27200\n",
       "4               Angola     4210     3210\n",
       "5  Antigua and Barbuda    16600    17100"
      ]
     },
     "execution_count": 3,
     "metadata": {},
     "output_type": "execute_result"
    }
   ],
   "source": [
    "gdp = gdp.loc[:, ['country', 1991, 1996]]\n",
    "gdp = gdp.rename(columns = {'country': 'País', 1991:'PIB1991', 1996: 'PIB1996'})\n",
    "gdp.head(6)"
   ]
  },
  {
   "cell_type": "markdown",
   "metadata": {},
   "source": [
    "### IDH / ano"
   ]
  },
  {
   "cell_type": "code",
   "execution_count": 4,
   "metadata": {},
   "outputs": [
    {
     "data": {
      "text/html": [
       "<div>\n",
       "<style scoped>\n",
       "    .dataframe tbody tr th:only-of-type {\n",
       "        vertical-align: middle;\n",
       "    }\n",
       "\n",
       "    .dataframe tbody tr th {\n",
       "        vertical-align: top;\n",
       "    }\n",
       "\n",
       "    .dataframe thead th {\n",
       "        text-align: right;\n",
       "    }\n",
       "</style>\n",
       "<table border=\"1\" class=\"dataframe\">\n",
       "  <thead>\n",
       "    <tr style=\"text-align: right;\">\n",
       "      <th></th>\n",
       "      <th>País</th>\n",
       "      <th>IDH1991</th>\n",
       "      <th>IDH1996</th>\n",
       "    </tr>\n",
       "  </thead>\n",
       "  <tbody>\n",
       "    <tr>\n",
       "      <th>0</th>\n",
       "      <td>Afghanistan</td>\n",
       "      <td>0.300</td>\n",
       "      <td>0.328</td>\n",
       "    </tr>\n",
       "    <tr>\n",
       "      <th>1</th>\n",
       "      <td>Albania</td>\n",
       "      <td>0.618</td>\n",
       "      <td>0.637</td>\n",
       "    </tr>\n",
       "    <tr>\n",
       "      <th>2</th>\n",
       "      <td>Algeria</td>\n",
       "      <td>0.581</td>\n",
       "      <td>0.609</td>\n",
       "    </tr>\n",
       "    <tr>\n",
       "      <th>3</th>\n",
       "      <td>Andorra</td>\n",
       "      <td>NaN</td>\n",
       "      <td>NaN</td>\n",
       "    </tr>\n",
       "    <tr>\n",
       "      <th>4</th>\n",
       "      <td>Angola</td>\n",
       "      <td>NaN</td>\n",
       "      <td>NaN</td>\n",
       "    </tr>\n",
       "  </tbody>\n",
       "</table>\n",
       "</div>"
      ],
      "text/plain": [
       "          País  IDH1991  IDH1996\n",
       "0  Afghanistan    0.300    0.328\n",
       "1      Albania    0.618    0.637\n",
       "2      Algeria    0.581    0.609\n",
       "3      Andorra      NaN      NaN\n",
       "4       Angola      NaN      NaN"
      ]
     },
     "execution_count": 4,
     "metadata": {},
     "output_type": "execute_result"
    }
   ],
   "source": [
    "idh = idh.loc[:, ['country', 1991, 1996]]\n",
    "idh = idh.rename(columns = {'country':'País', 1991:'IDH1991', 1996:'IDH1996'})\n",
    "idh.head()"
   ]
  },
  {
   "cell_type": "markdown",
   "metadata": {},
   "source": [
    "### Taxa de exportação (% do PIB) / ano"
   ]
  },
  {
   "cell_type": "code",
   "execution_count": 5,
   "metadata": {},
   "outputs": [
    {
     "data": {
      "text/html": [
       "<div>\n",
       "<style scoped>\n",
       "    .dataframe tbody tr th:only-of-type {\n",
       "        vertical-align: middle;\n",
       "    }\n",
       "\n",
       "    .dataframe tbody tr th {\n",
       "        vertical-align: top;\n",
       "    }\n",
       "\n",
       "    .dataframe thead th {\n",
       "        text-align: right;\n",
       "    }\n",
       "</style>\n",
       "<table border=\"1\" class=\"dataframe\">\n",
       "  <thead>\n",
       "    <tr style=\"text-align: right;\">\n",
       "      <th></th>\n",
       "      <th>País</th>\n",
       "      <th>EXPORT1991</th>\n",
       "      <th>EXPORT1996</th>\n",
       "    </tr>\n",
       "  </thead>\n",
       "  <tbody>\n",
       "    <tr>\n",
       "      <th>0</th>\n",
       "      <td>Afghanistan</td>\n",
       "      <td>NaN</td>\n",
       "      <td>NaN</td>\n",
       "    </tr>\n",
       "    <tr>\n",
       "      <th>1</th>\n",
       "      <td>Albania</td>\n",
       "      <td>7.22</td>\n",
       "      <td>11.2</td>\n",
       "    </tr>\n",
       "    <tr>\n",
       "      <th>2</th>\n",
       "      <td>Algeria</td>\n",
       "      <td>29.10</td>\n",
       "      <td>29.8</td>\n",
       "    </tr>\n",
       "    <tr>\n",
       "      <th>3</th>\n",
       "      <td>Angola</td>\n",
       "      <td>28.60</td>\n",
       "      <td>NaN</td>\n",
       "    </tr>\n",
       "    <tr>\n",
       "      <th>4</th>\n",
       "      <td>Antigua and Barbuda</td>\n",
       "      <td>76.80</td>\n",
       "      <td>63.5</td>\n",
       "    </tr>\n",
       "  </tbody>\n",
       "</table>\n",
       "</div>"
      ],
      "text/plain": [
       "                  País  EXPORT1991  EXPORT1996\n",
       "0          Afghanistan         NaN         NaN\n",
       "1              Albania        7.22        11.2\n",
       "2              Algeria       29.10        29.8\n",
       "3               Angola       28.60         NaN\n",
       "4  Antigua and Barbuda       76.80        63.5"
      ]
     },
     "execution_count": 5,
     "metadata": {},
     "output_type": "execute_result"
    }
   ],
   "source": [
    "export = export.loc[:, ['country', 1991, 1996]]\n",
    "export = export.rename(columns = {'country':'País', 1991:'EXPORT1991', 1996:'EXPORT1996'})\n",
    "export.head()"
   ]
  },
  {
   "cell_type": "markdown",
   "metadata": {},
   "source": [
    "## Join"
   ]
  },
  {
   "cell_type": "code",
   "execution_count": 6,
   "metadata": {},
   "outputs": [
    {
     "data": {
      "text/html": [
       "<div>\n",
       "<style scoped>\n",
       "    .dataframe tbody tr th:only-of-type {\n",
       "        vertical-align: middle;\n",
       "    }\n",
       "\n",
       "    .dataframe tbody tr th {\n",
       "        vertical-align: top;\n",
       "    }\n",
       "\n",
       "    .dataframe thead th {\n",
       "        text-align: right;\n",
       "    }\n",
       "</style>\n",
       "<table border=\"1\" class=\"dataframe\">\n",
       "  <thead>\n",
       "    <tr style=\"text-align: right;\">\n",
       "      <th></th>\n",
       "      <th>PIB1991</th>\n",
       "      <th>PIB1996</th>\n",
       "      <th>IDH1991</th>\n",
       "      <th>IDH1996</th>\n",
       "    </tr>\n",
       "    <tr>\n",
       "      <th>País</th>\n",
       "      <th></th>\n",
       "      <th></th>\n",
       "      <th></th>\n",
       "      <th></th>\n",
       "    </tr>\n",
       "  </thead>\n",
       "  <tbody>\n",
       "    <tr>\n",
       "      <th>Afghanistan</th>\n",
       "      <td>1030</td>\n",
       "      <td>904</td>\n",
       "      <td>0.300</td>\n",
       "      <td>0.328</td>\n",
       "    </tr>\n",
       "    <tr>\n",
       "      <th>Albania</th>\n",
       "      <td>3230</td>\n",
       "      <td>4530</td>\n",
       "      <td>0.618</td>\n",
       "      <td>0.637</td>\n",
       "    </tr>\n",
       "    <tr>\n",
       "      <th>Algeria</th>\n",
       "      <td>9870</td>\n",
       "      <td>9510</td>\n",
       "      <td>0.581</td>\n",
       "      <td>0.609</td>\n",
       "    </tr>\n",
       "    <tr>\n",
       "      <th>Andorra</th>\n",
       "      <td>28000</td>\n",
       "      <td>27200</td>\n",
       "      <td>NaN</td>\n",
       "      <td>NaN</td>\n",
       "    </tr>\n",
       "    <tr>\n",
       "      <th>Angola</th>\n",
       "      <td>4210</td>\n",
       "      <td>3210</td>\n",
       "      <td>NaN</td>\n",
       "      <td>NaN</td>\n",
       "    </tr>\n",
       "  </tbody>\n",
       "</table>\n",
       "</div>"
      ],
      "text/plain": [
       "             PIB1991  PIB1996  IDH1991  IDH1996\n",
       "País                                           \n",
       "Afghanistan     1030      904    0.300    0.328\n",
       "Albania         3230     4530    0.618    0.637\n",
       "Algeria         9870     9510    0.581    0.609\n",
       "Andorra        28000    27200      NaN      NaN\n",
       "Angola          4210     3210      NaN      NaN"
      ]
     },
     "execution_count": 6,
     "metadata": {},
     "output_type": "execute_result"
    }
   ],
   "source": [
    "gdp_idx = gdp.set_index('País')\n",
    "idh_idx = idh.set_index('País')\n",
    "export_idx = export.set_index('País')\n",
    "\n",
    "df = gdp_idx.join(idh_idx, how='inner')\n",
    "df.head()"
   ]
  },
  {
   "cell_type": "code",
   "execution_count": 7,
   "metadata": {},
   "outputs": [
    {
     "data": {
      "text/html": [
       "<div>\n",
       "<style scoped>\n",
       "    .dataframe tbody tr th:only-of-type {\n",
       "        vertical-align: middle;\n",
       "    }\n",
       "\n",
       "    .dataframe tbody tr th {\n",
       "        vertical-align: top;\n",
       "    }\n",
       "\n",
       "    .dataframe thead th {\n",
       "        text-align: right;\n",
       "    }\n",
       "</style>\n",
       "<table border=\"1\" class=\"dataframe\">\n",
       "  <thead>\n",
       "    <tr style=\"text-align: right;\">\n",
       "      <th></th>\n",
       "      <th>PIB1991</th>\n",
       "      <th>PIB1996</th>\n",
       "      <th>IDH1991</th>\n",
       "      <th>IDH1996</th>\n",
       "      <th>EXPORT1991</th>\n",
       "      <th>EXPORT1996</th>\n",
       "    </tr>\n",
       "    <tr>\n",
       "      <th>País</th>\n",
       "      <th></th>\n",
       "      <th></th>\n",
       "      <th></th>\n",
       "      <th></th>\n",
       "      <th></th>\n",
       "      <th></th>\n",
       "    </tr>\n",
       "  </thead>\n",
       "  <tbody>\n",
       "    <tr>\n",
       "      <th>Afghanistan</th>\n",
       "      <td>1030</td>\n",
       "      <td>904</td>\n",
       "      <td>0.300</td>\n",
       "      <td>0.328</td>\n",
       "      <td>NaN</td>\n",
       "      <td>NaN</td>\n",
       "    </tr>\n",
       "    <tr>\n",
       "      <th>Albania</th>\n",
       "      <td>3230</td>\n",
       "      <td>4530</td>\n",
       "      <td>0.618</td>\n",
       "      <td>0.637</td>\n",
       "      <td>7.22</td>\n",
       "      <td>11.2</td>\n",
       "    </tr>\n",
       "    <tr>\n",
       "      <th>Algeria</th>\n",
       "      <td>9870</td>\n",
       "      <td>9510</td>\n",
       "      <td>0.581</td>\n",
       "      <td>0.609</td>\n",
       "      <td>29.10</td>\n",
       "      <td>29.8</td>\n",
       "    </tr>\n",
       "    <tr>\n",
       "      <th>Angola</th>\n",
       "      <td>4210</td>\n",
       "      <td>3210</td>\n",
       "      <td>NaN</td>\n",
       "      <td>NaN</td>\n",
       "      <td>28.60</td>\n",
       "      <td>NaN</td>\n",
       "    </tr>\n",
       "    <tr>\n",
       "      <th>Antigua and Barbuda</th>\n",
       "      <td>16600</td>\n",
       "      <td>17100</td>\n",
       "      <td>NaN</td>\n",
       "      <td>NaN</td>\n",
       "      <td>76.80</td>\n",
       "      <td>63.5</td>\n",
       "    </tr>\n",
       "  </tbody>\n",
       "</table>\n",
       "</div>"
      ],
      "text/plain": [
       "                     PIB1991  PIB1996  IDH1991  IDH1996  EXPORT1991  \\\n",
       "País                                                                  \n",
       "Afghanistan             1030      904    0.300    0.328         NaN   \n",
       "Albania                 3230     4530    0.618    0.637        7.22   \n",
       "Algeria                 9870     9510    0.581    0.609       29.10   \n",
       "Angola                  4210     3210      NaN      NaN       28.60   \n",
       "Antigua and Barbuda    16600    17100      NaN      NaN       76.80   \n",
       "\n",
       "                     EXPORT1996  \n",
       "País                             \n",
       "Afghanistan                 NaN  \n",
       "Albania                    11.2  \n",
       "Algeria                    29.8  \n",
       "Angola                      NaN  \n",
       "Antigua and Barbuda        63.5  "
      ]
     },
     "execution_count": 7,
     "metadata": {},
     "output_type": "execute_result"
    }
   ],
   "source": [
    "data = df.join(export_idx, how='inner')\n",
    "data.head()"
   ]
  },
  {
   "cell_type": "markdown",
   "metadata": {},
   "source": [
    "## Separando apenas os países a serem observados e criando a coluna MERCOSUL"
   ]
  },
  {
   "cell_type": "code",
   "execution_count": 17,
   "metadata": {},
   "outputs": [
    {
     "data": {
      "text/html": [
       "<div>\n",
       "<style scoped>\n",
       "    .dataframe tbody tr th:only-of-type {\n",
       "        vertical-align: middle;\n",
       "    }\n",
       "\n",
       "    .dataframe tbody tr th {\n",
       "        vertical-align: top;\n",
       "    }\n",
       "\n",
       "    .dataframe thead th {\n",
       "        text-align: right;\n",
       "    }\n",
       "</style>\n",
       "<table border=\"1\" class=\"dataframe\">\n",
       "  <thead>\n",
       "    <tr style=\"text-align: right;\">\n",
       "      <th></th>\n",
       "      <th>PIB1991</th>\n",
       "      <th>PIB1996</th>\n",
       "      <th>IDH1991</th>\n",
       "      <th>IDH1996</th>\n",
       "      <th>EXPORT1991</th>\n",
       "      <th>EXPORT1996</th>\n",
       "      <th>MERCOSUL</th>\n",
       "    </tr>\n",
       "    <tr>\n",
       "      <th>País</th>\n",
       "      <th></th>\n",
       "      <th></th>\n",
       "      <th></th>\n",
       "      <th></th>\n",
       "      <th></th>\n",
       "      <th></th>\n",
       "      <th></th>\n",
       "    </tr>\n",
       "  </thead>\n",
       "  <tbody>\n",
       "    <tr>\n",
       "      <th>Argentina</th>\n",
       "      <td>12000.0</td>\n",
       "      <td>14500.0</td>\n",
       "      <td>0.713</td>\n",
       "      <td>0.738</td>\n",
       "      <td>7.68</td>\n",
       "      <td>10.40</td>\n",
       "      <td>Sim</td>\n",
       "    </tr>\n",
       "    <tr>\n",
       "      <th>Brazil</th>\n",
       "      <td>10300.0</td>\n",
       "      <td>11100.0</td>\n",
       "      <td>0.615</td>\n",
       "      <td>0.656</td>\n",
       "      <td>8.68</td>\n",
       "      <td>6.73</td>\n",
       "      <td>Sim</td>\n",
       "    </tr>\n",
       "    <tr>\n",
       "      <th>Uruguay</th>\n",
       "      <td>10100.0</td>\n",
       "      <td>12100.0</td>\n",
       "      <td>0.697</td>\n",
       "      <td>0.717</td>\n",
       "      <td>20.70</td>\n",
       "      <td>19.70</td>\n",
       "      <td>Sim</td>\n",
       "    </tr>\n",
       "    <tr>\n",
       "      <th>Paraguay</th>\n",
       "      <td>6090.0</td>\n",
       "      <td>6590.0</td>\n",
       "      <td>0.585</td>\n",
       "      <td>0.613</td>\n",
       "      <td>50.80</td>\n",
       "      <td>52.70</td>\n",
       "      <td>Sim</td>\n",
       "    </tr>\n",
       "    <tr>\n",
       "      <th>Chile</th>\n",
       "      <td>9540.0</td>\n",
       "      <td>12800.0</td>\n",
       "      <td>0.710</td>\n",
       "      <td>0.735</td>\n",
       "      <td>31.30</td>\n",
       "      <td>26.60</td>\n",
       "      <td>Não</td>\n",
       "    </tr>\n",
       "    <tr>\n",
       "      <th>Peru</th>\n",
       "      <td>5320.0</td>\n",
       "      <td>6300.0</td>\n",
       "      <td>0.616</td>\n",
       "      <td>0.647</td>\n",
       "      <td>12.10</td>\n",
       "      <td>13.30</td>\n",
       "      <td>Não</td>\n",
       "    </tr>\n",
       "    <tr>\n",
       "      <th>Colombia</th>\n",
       "      <td>7560.0</td>\n",
       "      <td>8480.0</td>\n",
       "      <td>0.595</td>\n",
       "      <td>0.635</td>\n",
       "      <td>21.30</td>\n",
       "      <td>15.20</td>\n",
       "      <td>Não</td>\n",
       "    </tr>\n",
       "  </tbody>\n",
       "</table>\n",
       "</div>"
      ],
      "text/plain": [
       "           PIB1991  PIB1996  IDH1991  IDH1996  EXPORT1991  EXPORT1996 MERCOSUL\n",
       "País                                                                          \n",
       "Argentina  12000.0  14500.0    0.713    0.738        7.68       10.40      Sim\n",
       "Brazil     10300.0  11100.0    0.615    0.656        8.68        6.73      Sim\n",
       "Uruguay    10100.0  12100.0    0.697    0.717       20.70       19.70      Sim\n",
       "Paraguay    6090.0   6590.0    0.585    0.613       50.80       52.70      Sim\n",
       "Chile       9540.0  12800.0    0.710    0.735       31.30       26.60      Não\n",
       "Peru        5320.0   6300.0    0.616    0.647       12.10       13.30      Não\n",
       "Colombia    7560.0   8480.0    0.595    0.635       21.30       15.20      Não"
      ]
     },
     "execution_count": 17,
     "metadata": {},
     "output_type": "execute_result"
    }
   ],
   "source": [
    "data = data.loc[['Argentina', 'Brazil', 'Uruguay', 'Paraguay', 'Chile', 'Peru', 'Colombia'], ['PIB1991', 'PIB1996', 'IDH1991', 'IDH1996', 'EXPORT1991', 'EXPORT1996']]\n",
    "data['MERCOSUL'] = 'Sim'\n",
    "data.loc[['Chile', 'Peru', 'Colombia'], ['MERCOSUL']] = 'Não'\n",
    "data"
   ]
  },
  {
   "cell_type": "markdown",
   "metadata": {},
   "source": [
    "É possível analisar a partir desse gráfico que os países que pertencem ao Mercosul tiveram um aumento tanto no PIB quanto no IDH. Os países fora do Mercosul também tiveram aumentos tanto no PIB quanto no IDH. A exportação é uma variável mais complicada, pois alguns países tanto do Mercosul como de fora tiveram uma baixa na taxa de exportação em % do PIB."
   ]
  },
  {
   "cell_type": "markdown",
   "metadata": {},
   "source": [
    "## Análise dos resultados com gráficos"
   ]
  },
  {
   "cell_type": "markdown",
   "metadata": {},
   "source": [
    "### Gráfico de dispersão PIB x IDH em 1996"
   ]
  },
  {
   "cell_type": "code",
   "execution_count": 9,
   "metadata": {},
   "outputs": [
    {
     "data": {
      "image/png": "[encoded data removed]",
      "text/plain": [
       "<Figure size 432x288 with 1 Axes>"
      ]
     },
     "metadata": {
      "needs_background": "light"
     },
     "output_type": "display_data"
    }
   ],
   "source": [
    "data.plot.scatter(x='PIB1996', y='IDH1996')\n",
    "sns.regplot(data['PIB1996'], data['IDH1996'], color=('turquoise'))\n",
    "plt.grid(True)"
   ]
  },
  {
   "cell_type": "code",
   "execution_count": 10,
   "metadata": {},
   "outputs": [
    {
     "data": {
      "text/html": [
       "<div>\n",
       "<style scoped>\n",
       "    .dataframe tbody tr th:only-of-type {\n",
       "        vertical-align: middle;\n",
       "    }\n",
       "\n",
       "    .dataframe tbody tr th {\n",
       "        vertical-align: top;\n",
       "    }\n",
       "\n",
       "    .dataframe thead th {\n",
       "        text-align: right;\n",
       "    }\n",
       "</style>\n",
       "<table border=\"1\" class=\"dataframe\">\n",
       "  <thead>\n",
       "    <tr style=\"text-align: right;\">\n",
       "      <th></th>\n",
       "      <th>PIB1996</th>\n",
       "      <th>IDH1996</th>\n",
       "    </tr>\n",
       "  </thead>\n",
       "  <tbody>\n",
       "    <tr>\n",
       "      <th>PIB1996</th>\n",
       "      <td>1.000000</td>\n",
       "      <td>0.905667</td>\n",
       "    </tr>\n",
       "    <tr>\n",
       "      <th>IDH1996</th>\n",
       "      <td>0.905667</td>\n",
       "      <td>1.000000</td>\n",
       "    </tr>\n",
       "  </tbody>\n",
       "</table>\n",
       "</div>"
      ],
      "text/plain": [
       "          PIB1996   IDH1996\n",
       "PIB1996  1.000000  0.905667\n",
       "IDH1996  0.905667  1.000000"
      ]
     },
     "execution_count": 10,
     "metadata": {},
     "output_type": "execute_result"
    }
   ],
   "source": [
    "data.loc[:, ['PIB1996', 'IDH1996']].corr()"
   ]
  },
  {
   "cell_type": "markdown",
   "metadata": {},
   "source": [
    "A correlação entre PIB e IDH em 1996 é 0.905667\n",
    "\n",
    "A partir dessa informação podemos concluir que os dados mostram o que todos pensam, que o PIB influencia no IDH ou vice-versa. O que também pode-se concluir é que na tabela acima do gráfico foi possível observar que quando o PIB aumenta o IDH também aumenta em países principalmente do Mercosul, mas também países que não estão nessa organização."
   ]
  },
  {
   "cell_type": "markdown",
   "metadata": {},
   "source": [
    "### Gráfico de dispersão PIB x Exportação em 1996"
   ]
  },
  {
   "cell_type": "code",
   "execution_count": 11,
   "metadata": {},
   "outputs": [
    {
     "data": {
      "image/png": "[encoded data removed]",
      "text/plain": [
       "<Figure size 432x288 with 1 Axes>"
      ]
     },
     "metadata": {
      "needs_background": "light"
     },
     "output_type": "display_data"
    }
   ],
   "source": [
    "data.plot.scatter(x='PIB1996', y='EXPORT1996')\n",
    "sns.regplot(data['PIB1996'], data['EXPORT1996'], color=('purple'))\n",
    "plt.grid(True)"
   ]
  },
  {
   "cell_type": "code",
   "execution_count": 12,
   "metadata": {},
   "outputs": [
    {
     "data": {
      "text/html": [
       "<div>\n",
       "<style scoped>\n",
       "    .dataframe tbody tr th:only-of-type {\n",
       "        vertical-align: middle;\n",
       "    }\n",
       "\n",
       "    .dataframe tbody tr th {\n",
       "        vertical-align: top;\n",
       "    }\n",
       "\n",
       "    .dataframe thead th {\n",
       "        text-align: right;\n",
       "    }\n",
       "</style>\n",
       "<table border=\"1\" class=\"dataframe\">\n",
       "  <thead>\n",
       "    <tr style=\"text-align: right;\">\n",
       "      <th></th>\n",
       "      <th>PIB1996</th>\n",
       "      <th>EXPORT1996</th>\n",
       "    </tr>\n",
       "  </thead>\n",
       "  <tbody>\n",
       "    <tr>\n",
       "      <th>PIB1996</th>\n",
       "      <td>1.000000</td>\n",
       "      <td>-0.406613</td>\n",
       "    </tr>\n",
       "    <tr>\n",
       "      <th>EXPORT1996</th>\n",
       "      <td>-0.406613</td>\n",
       "      <td>1.000000</td>\n",
       "    </tr>\n",
       "  </tbody>\n",
       "</table>\n",
       "</div>"
      ],
      "text/plain": [
       "             PIB1996  EXPORT1996\n",
       "PIB1996     1.000000   -0.406613\n",
       "EXPORT1996 -0.406613    1.000000"
      ]
     },
     "execution_count": 12,
     "metadata": {},
     "output_type": "execute_result"
    }
   ],
   "source": [
    "data.loc[:, ['PIB1996', 'EXPORT1996']].corr()"
   ]
  },
  {
   "cell_type": "markdown",
   "metadata": {},
   "source": [
    "A correlação entre PIB e Exportação é de -0.406613\n",
    "\n",
    "Isso pode nos dizer que a exportação talvez não influencie o PIB, mostrando o contrário do que a maioria pensa. Também pode-se observar que na tabela principal (join em todas as variáveis) a exportação é a única variável que não bate com a hipótese, e nesse gráfico acima pode ser observado exatamente isso, que ela não influencia no PIB"
   ]
  },
  {
   "cell_type": "markdown",
   "metadata": {},
   "source": [
    "### Gráfico de dispersão Exportação x IDH em 1996"
   ]
  },
  {
   "cell_type": "code",
   "execution_count": 13,
   "metadata": {},
   "outputs": [
    {
     "data": {
      "image/png": "[encoded data removed]",
      "text/plain": [
       "<Figure size 432x288 with 1 Axes>"
      ]
     },
     "metadata": {
      "needs_background": "light"
     },
     "output_type": "display_data"
    }
   ],
   "source": [
    "data.plot.scatter(x='EXPORT1996', y='IDH1996')\n",
    "sns.regplot(data['EXPORT1996'], data['IDH1996'], color=('darkred'))\n",
    "plt.grid(True)"
   ]
  },
  {
   "cell_type": "code",
   "execution_count": 14,
   "metadata": {},
   "outputs": [
    {
     "data": {
      "text/html": [
       "<div>\n",
       "<style scoped>\n",
       "    .dataframe tbody tr th:only-of-type {\n",
       "        vertical-align: middle;\n",
       "    }\n",
       "\n",
       "    .dataframe tbody tr th {\n",
       "        vertical-align: top;\n",
       "    }\n",
       "\n",
       "    .dataframe thead th {\n",
       "        text-align: right;\n",
       "    }\n",
       "</style>\n",
       "<table border=\"1\" class=\"dataframe\">\n",
       "  <thead>\n",
       "    <tr style=\"text-align: right;\">\n",
       "      <th></th>\n",
       "      <th>EXPORT1996</th>\n",
       "      <th>IDH1996</th>\n",
       "    </tr>\n",
       "  </thead>\n",
       "  <tbody>\n",
       "    <tr>\n",
       "      <th>EXPORT1996</th>\n",
       "      <td>1.000000</td>\n",
       "      <td>-0.339601</td>\n",
       "    </tr>\n",
       "    <tr>\n",
       "      <th>IDH1996</th>\n",
       "      <td>-0.339601</td>\n",
       "      <td>1.000000</td>\n",
       "    </tr>\n",
       "  </tbody>\n",
       "</table>\n",
       "</div>"
      ],
      "text/plain": [
       "            EXPORT1996   IDH1996\n",
       "EXPORT1996    1.000000 -0.339601\n",
       "IDH1996      -0.339601  1.000000"
      ]
     },
     "execution_count": 14,
     "metadata": {},
     "output_type": "execute_result"
    }
   ],
   "source": [
    "data.loc[:, ['EXPORT1996', 'IDH1996']].corr()"
   ]
  },
  {
   "cell_type": "markdown",
   "metadata": {},
   "source": [
    "A correlação entre Exportação e PIB é de -0.339601\n",
    "\n",
    "Ao contrário do que as pessoas pensam, a taxa de exportação não influencia no IDH dos países. Como dito acima, a exportação é a única variável que não corresponde com as expectativas, ou seja, ela não influencia nem o PIB nem o IDH."
   ]
  },
  {
   "cell_type": "markdown",
   "metadata": {},
   "source": [
    "## Gráfico de barras (MERCOSUL)"
   ]
  },
  {
   "cell_type": "markdown",
   "metadata": {},
   "source": [
    "### PIB"
   ]
  },
  {
   "cell_type": "code",
   "execution_count": 18,
   "metadata": {
    "scrolled": true
   },
   "outputs": [
    {
     "data": {
      "image/png": "[encoded data removed]",
      "text/plain": [
       "<Figure size 936x288 with 2 Axes>"
      ]
     },
     "metadata": {
      "needs_background": "light"
     },
     "output_type": "display_data"
    }
   ],
   "source": [
    "fig = plt.figure(figsize=(13, 4))\n",
    "\n",
    "plt.subplot(131)\n",
    "evc=data.PIB1991[data.MERCOSUL=='Sim']\n",
    "evc.plot(kind='bar', title='PIB1991', legend=False)\n",
    "plt.grid(True)\n",
    "\n",
    "plt.subplot(132)\n",
    "p1996 = data.PIB1996[data.MERCOSUL=='Sim']\n",
    "p1996.plot(kind='bar', title='PIB1996', legend=False)\n",
    "plt.grid(True)\n",
    "\n",
    "plt.tight_layout()\n",
    "plt.show()"
   ]
  },
  {
   "cell_type": "code",
   "execution_count": 25,
   "metadata": {},
   "outputs": [
    {
     "name": "stdout",
     "output_type": "stream",
     "text": [
      "A média do PIB de 1991 dos países do MERCOSUL era de 9622.5\n",
      "A mediana do PIB de 1991 dos países do MERCOSUL era de 10200.0\n",
      "\n",
      "A média do PIB de 1996 dos países do MERCOSUL era de 11072.5\n",
      "A mediana do PIB de 1996 dos países do MERCOSUL era de 11600.0\n",
      "\n",
      "Pode-se concluir que o PIB teve um aumento do ano de 1991 até o ano de 1996\n"
     ]
    }
   ],
   "source": [
    "print('A média do PIB de 1991 dos países do MERCOSUL era de {}'.format(data.PIB1991[data.MERCOSUL=='Sim'].mean()))\n",
    "print('A mediana do PIB de 1991 dos países do MERCOSUL era de {}'.format(data.PIB1991[data.MERCOSUL=='Sim'].median()))\n",
    "print()\n",
    "print('A média do PIB de 1996 dos países do MERCOSUL era de {}'.format(data.PIB1996[data.MERCOSUL=='Sim'].mean()))\n",
    "print('A mediana do PIB de 1996 dos países do MERCOSUL era de {}'.format(data.PIB1996[data.MERCOSUL=='Sim'].median()))\n",
    "print()\n",
    "print('Pode-se concluir que o PIB teve um aumento do ano de 1991 até o ano de 1996')"
   ]
  },
  {
   "cell_type": "markdown",
   "metadata": {},
   "source": [
    "### IDH"
   ]
  },
  {
   "cell_type": "code",
   "execution_count": 19,
   "metadata": {},
   "outputs": [
    {
     "data": {
      "image/png": "[encoded data removed]",
      "text/plain": [
       "<Figure size 936x288 with 2 Axes>"
      ]
     },
     "metadata": {
      "needs_background": "light"
     },
     "output_type": "display_data"
    }
   ],
   "source": [
    "fig = plt.figure(figsize=(13, 4))\n",
    "\n",
    "plt.subplot(131)\n",
    "evc=data.IDH1991[data.MERCOSUL=='Sim']\n",
    "evc.plot(kind='bar', title='IDH1991', legend=False)\n",
    "plt.grid(True)\n",
    "\n",
    "plt.subplot(132)\n",
    "p1996 = data.IDH1996[data.MERCOSUL=='Sim']\n",
    "p1996.plot(kind='bar', title='IDH1996', legend=False)\n",
    "plt.grid(True)\n",
    "\n",
    "plt.tight_layout()\n",
    "plt.show()"
   ]
  },
  {
   "cell_type": "code",
   "execution_count": 28,
   "metadata": {},
   "outputs": [
    {
     "name": "stdout",
     "output_type": "stream",
     "text": [
      "A média do IDH de 1991 dos países do MERCOSUL era de 0.652\n",
      "A mediana do IDH de 1991 dos países do MERCOSUL era de 0.656\n",
      "\n",
      "A média do IDH de 1996 dos países do MERCOSUL era de 0.681\n",
      "A mediana do IDH de 1996 dos países do MERCOSUL era de 0.686\n",
      "\n",
      "Pode-se concluir que o IDH teve um aumento do ano de 1991 até o ano de 1996\n"
     ]
    }
   ],
   "source": [
    "print('A média do IDH de 1991 dos países do MERCOSUL era de {:.3f}'.format(data.IDH1991[data.MERCOSUL=='Sim'].mean()))\n",
    "print('A mediana do IDH de 1991 dos países do MERCOSUL era de {:.3f}'.format(data.IDH1991[data.MERCOSUL=='Sim'].median()))\n",
    "print()\n",
    "print('A média do IDH de 1996 dos países do MERCOSUL era de {:.3f}'.format(data.IDH1996[data.MERCOSUL=='Sim'].mean()))\n",
    "print('A mediana do IDH de 1996 dos países do MERCOSUL era de {:.3f}'.format(data.IDH1996[data.MERCOSUL=='Sim'].median()))\n",
    "print()\n",
    "print('Pode-se concluir que o IDH teve um aumento do ano de 1991 até o ano de 1996')"
   ]
  },
  {
   "cell_type": "markdown",
   "metadata": {},
   "source": [
    "### Exportação"
   ]
  },
  {
   "cell_type": "code",
   "execution_count": 20,
   "metadata": {
    "scrolled": true
   },
   "outputs": [
    {
     "data": {
      "image/png": "[encoded data removed]",
      "text/plain": [
       "<Figure size 936x288 with 2 Axes>"
      ]
     },
     "metadata": {
      "needs_background": "light"
     },
     "output_type": "display_data"
    }
   ],
   "source": [
    "fig = plt.figure(figsize=(13, 4))\n",
    "\n",
    "plt.subplot(131)\n",
    "evc=data.EXPORT1991[data.MERCOSUL=='Sim']\n",
    "evc.plot(kind='bar', title='EXPORTAÇÃO 1991', legend=False)\n",
    "plt.grid(True)\n",
    "\n",
    "plt.subplot(132)\n",
    "p1996 = data.EXPORT1996[data.MERCOSUL=='Sim']\n",
    "p1996.plot(kind='bar', title='EXPORTAÇÃO 1996', legend=False)\n",
    "plt.grid(True)\n",
    "\n",
    "plt.tight_layout()\n",
    "plt.show()"
   ]
  },
  {
   "cell_type": "code",
   "execution_count": 30,
   "metadata": {},
   "outputs": [
    {
     "name": "stdout",
     "output_type": "stream",
     "text": [
      "A média da Exportação de 1991 dos países do MERCOSUL era de 21.965\n",
      "A mediana da Exportação de 1991 dos países do MERCOSUL era de 14.690\n",
      "\n",
      "A média da Exportação de 1996 dos países do MERCOSUL era de 22.383\n",
      "A mediana da Exportação de 1996 dos países do MERCOSUL era de 15.050\n",
      "\n",
      "Pode-se concluir que a Exportação teve um aumento muito pequeno do ano de 1991 até o ano de 1996\n"
     ]
    }
   ],
   "source": [
    "print('A média da Exportação de 1991 dos países do MERCOSUL era de {:.3f}'.format(data.EXPORT1991[data.MERCOSUL=='Sim'].mean()))\n",
    "print('A mediana da Exportação de 1991 dos países do MERCOSUL era de {:.3f}'.format(data.EXPORT1991[data.MERCOSUL=='Sim'].median()))\n",
    "print()\n",
    "print('A média da Exportação de 1996 dos países do MERCOSUL era de {:.3f}'.format(data.EXPORT1996[data.MERCOSUL=='Sim'].mean()))\n",
    "print('A mediana da Exportação de 1996 dos países do MERCOSUL era de {:.3f}'.format(data.EXPORT1996[data.MERCOSUL=='Sim'].median()))\n",
    "print()\n",
    "print('Pode-se concluir que a Exportação teve um aumento muito pequeno do ano de 1991 até o ano de 1996')"
   ]
  },
  {
   "cell_type": "markdown",
   "metadata": {},
   "source": [
    "# Conclusão"
   ]
  },
  {
   "cell_type": "markdown",
   "metadata": {},
   "source": [
    "De acordo com as análises feitas acima, é possível concluir que a Exportação não tem tanta influência sobre o PIB de um país do Mercosul e consequentemente sobre o IDH. Isso porque em alguns países a Exportação cai num período de 5 anos, mas o PIB e o IDH continuam a crescer. Ao contrário do que muitos pensam, a Exportação não é tão impactante quanto outros fatores devem ser, e isso poderia ser explorado em um trabalho futuro. Por hora, pode-se dizer que a Exportação tem um peso leve no PIB de um país, mas que o PIB e o IDH mostraram trabalhar em cojunto, quando um cresce, o outro também cresce. \n",
    "\n",
    "Uma última observação é, porque que em alguns países a exportação caiu, mesmo estando em uma organização de livre comércio? Essa pergunta pode ser estudada em um trabalho futuro também!"
   ]
  },
  {
   "cell_type": "code",
   "execution_count": null,
   "metadata": {},
   "outputs": [],
   "source": []
  }
 ],
 "metadata": {
  "kernelspec": {
   "display_name": "Python 3",
   "language": "python",
   "name": "python3"
  },
  "language_info": {
   "codemirror_mode": {
    "name": "ipython",
    "version": 3
   },
   "file_extension": ".py",
   "mimetype": "text/x-python",
   "name": "python",
   "nbconvert_exporter": "python",
   "pygments_lexer": "ipython3",
   "version": "3.7.3"
  }
 },
 "nbformat": 4,
 "nbformat_minor": 2
}
